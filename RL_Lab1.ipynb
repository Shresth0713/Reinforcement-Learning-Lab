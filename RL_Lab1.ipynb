{
 "cells": [
  {
   "cell_type": "code",
   "execution_count": 1,
   "id": "7757c538",
   "metadata": {},
   "outputs": [],
   "source": [
    "import gym\n",
    "env = gym.make(\"MountainCar-v0\",render_mode=\"human\")"
   ]
  },
  {
   "cell_type": "code",
   "execution_count": 2,
   "id": "f23b12c4",
   "metadata": {},
   "outputs": [
    {
     "name": "stdout",
     "output_type": "stream",
     "text": [
      "The observation space: Box([-1.2  -0.07], [0.6  0.07], (2,), float32)\n",
      "The action space: Discrete(3)\n"
     ]
    }
   ],
   "source": [
    "obs_space = env.observation_space\n",
    "action_space = env.action_space\n",
    "print(\"The observation space: {}\".format(obs_space))\n",
    "print(\"The action space: {}\".format(action_space))"
   ]
  },
  {
   "cell_type": "code",
   "execution_count": 3,
   "id": "c259b9bd",
   "metadata": {},
   "outputs": [
    {
     "name": "stdout",
     "output_type": "stream",
     "text": [
      "The initial observation is (array([-0.5344419,  0.       ], dtype=float32), {})\n",
      "The new observation is [-5.343606e-01  8.130902e-05]\n"
     ]
    }
   ],
   "source": [
    "import matplotlib.pyplot as plt \n",
    "\n",
    "# reset the environment and see the initial observation\n",
    "obs = env.reset()\n",
    "print(\"The initial observation is {}\".format(obs))\n",
    "\n",
    "# Sample a random action from the entire action space\n",
    "random_action = env.action_space.sample()\n",
    "\n",
    "# # Take the action and get the new observation space\n",
    "new_obs, reward, done, info,k = env.step(random_action)\n",
    "print(\"The new observation is {}\".format(new_obs))"
   ]
  },
  {
   "cell_type": "code",
   "execution_count": null,
   "id": "bb59eb70",
   "metadata": {},
   "outputs": [],
   "source": [
    "import time \n",
    "num_steps = 1500\n",
    "obs = env.reset()\n",
    "for step in range(num_steps):    \n",
    "    action = env.action_space.sample()    \n",
    "    obs, reward, done, info,k = env.step(action)    \n",
    "    env.render()    \n",
    "    #time.sleep(0.001)   \n",
    "    if done:\n",
    "        env.reset()\n",
    "\n",
    "# Close the env\n",
    "env.close()"
   ]
  },
  {
   "cell_type": "code",
   "execution_count": 6,
   "id": "2d305e47",
   "metadata": {},
   "outputs": [
    {
     "name": "stdout",
     "output_type": "stream",
     "text": [
      "Requirement already satisfied: gym[all] in c:\\programdata\\anaconda3\\lib\\site-packages (0.26.2)\n",
      "Requirement already satisfied: cloudpickle>=1.2.0 in c:\\programdata\\anaconda3\\lib\\site-packages (from gym[all]) (2.0.0)\n",
      "Requirement already satisfied: importlib-metadata>=4.8.0 in c:\\programdata\\anaconda3\\lib\\site-packages (from gym[all]) (4.8.1)\n",
      "Requirement already satisfied: gym-notices>=0.0.4 in c:\\programdata\\anaconda3\\lib\\site-packages (from gym[all]) (0.0.8)\n",
      "Requirement already satisfied: numpy>=1.18.0 in c:\\programdata\\anaconda3\\lib\\site-packages (from gym[all]) (1.20.3)\n",
      "Requirement already satisfied: pygame==2.1.0 in c:\\programdata\\anaconda3\\lib\\site-packages (from gym[all]) (2.1.0)\n",
      "Requirement already satisfied: swig==4.* in c:\\programdata\\anaconda3\\lib\\site-packages (from gym[all]) (4.1.1)\n",
      "Collecting moviepy>=1.0.0\n",
      "  Using cached moviepy-1.0.3-py3-none-any.whl\n",
      "Collecting ale-py~=0.8.0\n",
      "  Using cached ale_py-0.8.0-cp39-cp39-win_amd64.whl (950 kB)\n",
      "Requirement already satisfied: matplotlib>=3.0 in c:\\programdata\\anaconda3\\lib\\site-packages (from gym[all]) (3.4.3)\n",
      "Collecting pytest==7.0.1\n",
      "  Using cached pytest-7.0.1-py3-none-any.whl (296 kB)\n",
      "Collecting opencv-python>=3.0\n",
      "  Using cached opencv_python-4.7.0.68-cp37-abi3-win_amd64.whl (38.2 MB)\n",
      "Collecting mujoco-py<2.2,>=2.1\n",
      "  Using cached mujoco_py-2.1.2.14-py3-none-any.whl (2.4 MB)\n",
      "Collecting lz4>=3.1.0\n",
      "  Using cached lz4-4.3.2-cp39-cp39-win_amd64.whl (99 kB)\n",
      "Collecting mujoco==2.2\n",
      "  Using cached mujoco-2.2.0-cp39-cp39-win_amd64.whl (2.8 MB)\n",
      "Collecting imageio>=2.14.1\n",
      "  Using cached imageio-2.24.0-py3-none-any.whl (3.4 MB)\n",
      "Requirement already satisfied: box2d-py==2.3.5 in c:\\users\\yash vardhan gautam\\appdata\\roaming\\python\\python39\\site-packages (from gym[all]) (2.3.5)\n",
      "Requirement already satisfied: pyopengl in c:\\programdata\\anaconda3\\lib\\site-packages (from mujoco==2.2->gym[all]) (3.1.6)\n",
      "Collecting absl-py\n",
      "  Using cached absl_py-1.4.0-py3-none-any.whl (126 kB)\n",
      "Collecting glfw\n",
      "  Using cached glfw-2.5.5-py2.py27.py3.py30.py31.py32.py33.py34.py35.py36.py37.py38-none-win_amd64.whl (492 kB)\n",
      "Requirement already satisfied: py>=1.8.2 in c:\\programdata\\anaconda3\\lib\\site-packages (from pytest==7.0.1->gym[all]) (1.10.0)\n",
      "Requirement already satisfied: iniconfig in c:\\programdata\\anaconda3\\lib\\site-packages (from pytest==7.0.1->gym[all]) (1.1.1)\n",
      "Requirement already satisfied: tomli>=1.0.0 in c:\\programdata\\anaconda3\\lib\\site-packages (from pytest==7.0.1->gym[all]) (2.0.1)\n",
      "Requirement already satisfied: colorama in c:\\programdata\\anaconda3\\lib\\site-packages (from pytest==7.0.1->gym[all]) (0.4.4)\n",
      "Requirement already satisfied: packaging in c:\\programdata\\anaconda3\\lib\\site-packages (from pytest==7.0.1->gym[all]) (21.0)\n",
      "Requirement already satisfied: pluggy<2.0,>=0.12 in c:\\programdata\\anaconda3\\lib\\site-packages (from pytest==7.0.1->gym[all]) (0.13.1)\n",
      "Requirement already satisfied: attrs>=19.2.0 in c:\\programdata\\anaconda3\\lib\\site-packages (from pytest==7.0.1->gym[all]) (21.2.0)\n",
      "Requirement already satisfied: atomicwrites>=1.0 in c:\\programdata\\anaconda3\\lib\\site-packages (from pytest==7.0.1->gym[all]) (1.4.0)\n",
      "Requirement already satisfied: importlib-resources in c:\\programdata\\anaconda3\\lib\\site-packages (from ale-py~=0.8.0->gym[all]) (5.10.2)\n",
      "Collecting importlib-metadata>=4.8.0\n",
      "  Using cached importlib_metadata-6.0.0-py3-none-any.whl (21 kB)\n",
      "Requirement already satisfied: typing-extensions in c:\\programdata\\anaconda3\\lib\\site-packages (from ale-py~=0.8.0->gym[all]) (3.10.0.2)\n",
      "Requirement already satisfied: pillow>=8.3.2 in c:\\programdata\\anaconda3\\lib\\site-packages (from imageio>=2.14.1->gym[all]) (8.4.0)\n",
      "Requirement already satisfied: zipp>=0.5 in c:\\programdata\\anaconda3\\lib\\site-packages (from importlib-metadata>=4.8.0->gym[all]) (3.6.0)\n",
      "Requirement already satisfied: cycler>=0.10 in c:\\programdata\\anaconda3\\lib\\site-packages (from matplotlib>=3.0->gym[all]) (0.10.0)\n",
      "Requirement already satisfied: pyparsing>=2.2.1 in c:\\programdata\\anaconda3\\lib\\site-packages (from matplotlib>=3.0->gym[all]) (3.0.4)\n",
      "Requirement already satisfied: python-dateutil>=2.7 in c:\\programdata\\anaconda3\\lib\\site-packages (from matplotlib>=3.0->gym[all]) (2.8.2)\n",
      "Requirement already satisfied: kiwisolver>=1.0.1 in c:\\programdata\\anaconda3\\lib\\site-packages (from matplotlib>=3.0->gym[all]) (1.3.1)\n",
      "Requirement already satisfied: six in c:\\programdata\\anaconda3\\lib\\site-packages (from cycler>=0.10->matplotlib>=3.0->gym[all]) (1.16.0)\n",
      "Collecting decorator<5.0,>=4.0.2\n",
      "  Using cached decorator-4.4.2-py2.py3-none-any.whl (9.2 kB)\n",
      "Requirement already satisfied: requests<3.0,>=2.8.1 in c:\\programdata\\anaconda3\\lib\\site-packages (from moviepy>=1.0.0->gym[all]) (2.26.0)\n",
      "Requirement already satisfied: tqdm<5.0,>=4.11.2 in c:\\programdata\\anaconda3\\lib\\site-packages (from moviepy>=1.0.0->gym[all]) (4.62.3)\n",
      "Requirement already satisfied: proglog<=1.0.0 in c:\\programdata\\anaconda3\\lib\\site-packages (from moviepy>=1.0.0->gym[all]) (0.1.10)\n",
      "Collecting imageio-ffmpeg>=0.2.0\n",
      "  Using cached imageio_ffmpeg-0.4.8-py3-none-win_amd64.whl (22.6 MB)\n",
      "Collecting fasteners~=0.15\n",
      "  Using cached fasteners-0.18-py3-none-any.whl (18 kB)\n",
      "Requirement already satisfied: cffi>=1.10 in c:\\programdata\\anaconda3\\lib\\site-packages (from mujoco-py<2.2,>=2.1->gym[all]) (1.14.6)\n",
      "Requirement already satisfied: Cython>=0.27.2 in c:\\programdata\\anaconda3\\lib\\site-packages (from mujoco-py<2.2,>=2.1->gym[all]) (0.29.24)\n",
      "Requirement already satisfied: pycparser in c:\\programdata\\anaconda3\\lib\\site-packages (from cffi>=1.10->mujoco-py<2.2,>=2.1->gym[all]) (2.20)\n",
      "Requirement already satisfied: certifi>=2017.4.17 in c:\\programdata\\anaconda3\\lib\\site-packages (from requests<3.0,>=2.8.1->moviepy>=1.0.0->gym[all]) (2021.10.8)\n",
      "Requirement already satisfied: urllib3<1.27,>=1.21.1 in c:\\programdata\\anaconda3\\lib\\site-packages (from requests<3.0,>=2.8.1->moviepy>=1.0.0->gym[all]) (1.26.7)\n",
      "Requirement already satisfied: charset-normalizer~=2.0.0 in c:\\programdata\\anaconda3\\lib\\site-packages (from requests<3.0,>=2.8.1->moviepy>=1.0.0->gym[all]) (2.0.4)\n",
      "Requirement already satisfied: idna<4,>=2.5 in c:\\programdata\\anaconda3\\lib\\site-packages (from requests<3.0,>=2.8.1->moviepy>=1.0.0->gym[all]) (3.2)\n",
      "Installing collected packages: importlib-metadata, imageio-ffmpeg, imageio, glfw, fasteners, decorator, absl-py, pytest, opencv-python, mujoco-py, mujoco, moviepy, lz4, ale-py\n",
      "Successfully installed absl-py-1.4.0 ale-py-0.8.0 decorator-4.4.2 fasteners-0.18 glfw-2.5.5 imageio-2.24.0 imageio-ffmpeg-0.4.8 importlib-metadata-6.0.0 lz4-4.3.2 moviepy-1.0.3 mujoco-2.2.0 mujoco-py-2.1.2.14 opencv-python-4.7.0.68 pytest-7.0.1\n",
      "Note: you may need to restart the kernel to use updated packages.\n"
     ]
    },
    {
     "name": "stderr",
     "output_type": "stream",
     "text": [
      "WARNING: Ignoring invalid distribution -mportlib-metadata (c:\\programdata\\anaconda3\\lib\\site-packages)\n",
      "WARNING: Ignoring invalid distribution -mportlib-metadata (c:\\programdata\\anaconda3\\lib\\site-packages)\n",
      "WARNING: Ignoring invalid distribution -mportlib-metadata (c:\\programdata\\anaconda3\\lib\\site-packages)\n",
      "  WARNING: The scripts imageio_download_bin.exe and imageio_remove_bin.exe are installed in 'C:\\Users\\Yash Vardhan Gautam\\AppData\\Roaming\\Python\\Python39\\Scripts' which is not on PATH.\n",
      "  Consider adding this directory to PATH or, if you prefer to suppress this warning, use --no-warn-script-location.\n",
      "  WARNING: The scripts py.test.exe and pytest.exe are installed in 'C:\\Users\\Yash Vardhan Gautam\\AppData\\Roaming\\Python\\Python39\\Scripts' which is not on PATH.\n",
      "  Consider adding this directory to PATH or, if you prefer to suppress this warning, use --no-warn-script-location.\n",
      "  WARNING: The script ale-import-roms.exe is installed in 'C:\\Users\\Yash Vardhan Gautam\\AppData\\Roaming\\Python\\Python39\\Scripts' which is not on PATH.\n",
      "  Consider adding this directory to PATH or, if you prefer to suppress this warning, use --no-warn-script-location.\n",
      "WARNING: Ignoring invalid distribution -mportlib-metadata (c:\\programdata\\anaconda3\\lib\\site-packages)\n",
      "WARNING: Ignoring invalid distribution -mportlib-metadata (c:\\programdata\\anaconda3\\lib\\site-packages)\n",
      "WARNING: Ignoring invalid distribution -mportlib-metadata (c:\\programdata\\anaconda3\\lib\\site-packages)\n"
     ]
    }
   ],
   "source": [
    "pip install gym[all] --user"
   ]
  },
  {
   "cell_type": "code",
   "execution_count": 5,
   "id": "c7c6729d",
   "metadata": {},
   "outputs": [
    {
     "name": "stdout",
     "output_type": "stream",
     "text": [
      "Note: you may need to restart the kernel to use updated packages.\n"
     ]
    },
    {
     "name": "stderr",
     "output_type": "stream",
     "text": [
      "WARNING: Ignoring invalid distribution -mportlib-metadata (c:\\programdata\\anaconda3\\lib\\site-packages)\n",
      "ERROR: Invalid requirement: \"'mujoco-py=2.2'\"\n",
      "Hint: = is not a valid operator. Did you mean == ?\n",
      "WARNING: Ignoring invalid distribution -mportlib-metadata (c:\\programdata\\anaconda3\\lib\\site-packages)\n",
      "WARNING: Ignoring invalid distribution -mportlib-metadata (c:\\programdata\\anaconda3\\lib\\site-packages)\n",
      "WARNING: Ignoring invalid distribution -mportlib-metadata (c:\\programdata\\anaconda3\\lib\\site-packages)\n"
     ]
    }
   ],
   "source": [
    "pip install 'mujoco-py=2.2' --user"
   ]
  },
  {
   "cell_type": "code",
   "execution_count": 6,
   "id": "24bb54c5",
   "metadata": {},
   "outputs": [
    {
     "name": "stdout",
     "output_type": "stream",
     "text": [
      "Collecting git+https://github.com/openai/mujoco-py\n",
      "  Cloning https://github.com/openai/mujoco-py to c:\\users\\yash vardhan gautam\\appdata\\local\\temp\\pip-req-build-ntd2h08f\n",
      "  Resolved https://github.com/openai/mujoco-py to commit a13903b82f1ab316815e63b3575526005b3b2ae1\n",
      "  Installing build dependencies: started\n",
      "  Installing build dependencies: finished with status 'done'\n",
      "  Getting requirements to build wheel: started\n",
      "  Getting requirements to build wheel: finished with status 'done'\n",
      "  Installing backend dependencies: started\n",
      "  Installing backend dependencies: finished with status 'done'\n",
      "    Preparing wheel metadata: started\n",
      "    Preparing wheel metadata: finished with status 'done'\n",
      "Requirement already satisfied: imageio>=2.1.2 in c:\\users\\yash vardhan gautam\\appdata\\roaming\\python\\python39\\site-packages (from mujoco-py==2.1.2.14) (2.24.0)\n",
      "Requirement already satisfied: numpy>=1.11 in c:\\programdata\\anaconda3\\lib\\site-packages (from mujoco-py==2.1.2.14) (1.20.3)\n",
      "Requirement already satisfied: fasteners~=0.15 in c:\\users\\yash vardhan gautam\\appdata\\roaming\\python\\python39\\site-packages (from mujoco-py==2.1.2.14) (0.18)\n",
      "Requirement already satisfied: cffi>=1.10 in c:\\programdata\\anaconda3\\lib\\site-packages (from mujoco-py==2.1.2.14) (1.14.6)\n",
      "Requirement already satisfied: Cython>=0.27.2 in c:\\programdata\\anaconda3\\lib\\site-packages (from mujoco-py==2.1.2.14) (0.29.24)\n",
      "Requirement already satisfied: glfw>=1.4.0 in c:\\users\\yash vardhan gautam\\appdata\\roaming\\python\\python39\\site-packages (from mujoco-py==2.1.2.14) (2.5.5)\n",
      "Requirement already satisfied: pycparser in c:\\programdata\\anaconda3\\lib\\site-packages (from cffi>=1.10->mujoco-py==2.1.2.14) (2.20)\n",
      "Requirement already satisfied: pillow>=8.3.2 in c:\\programdata\\anaconda3\\lib\\site-packages (from imageio>=2.1.2->mujoco-py==2.1.2.14) (8.4.0)\n",
      "Note: you may need to restart the kernel to use updated packages.\n"
     ]
    },
    {
     "name": "stderr",
     "output_type": "stream",
     "text": [
      "WARNING: Ignoring invalid distribution -mportlib-metadata (c:\\programdata\\anaconda3\\lib\\site-packages)\n",
      "WARNING: Ignoring invalid distribution -mportlib-metadata (c:\\programdata\\anaconda3\\lib\\site-packages)\n",
      "  Running command git clone -q https://github.com/openai/mujoco-py 'C:\\Users\\Yash Vardhan Gautam\\AppData\\Local\\Temp\\pip-req-build-ntd2h08f'\n",
      "  WARNING: Missing build requirements in pyproject.toml for git+https://github.com/openai/mujoco-py.\n",
      "  WARNING: The project does not specify a build backend, and pip cannot fall back to setuptools without 'wheel'.\n",
      "WARNING: Ignoring invalid distribution -mportlib-metadata (c:\\programdata\\anaconda3\\lib\\site-packages)\n",
      "WARNING: Ignoring invalid distribution -mportlib-metadata (c:\\programdata\\anaconda3\\lib\\site-packages)\n",
      "WARNING: Ignoring invalid distribution -mportlib-metadata (c:\\programdata\\anaconda3\\lib\\site-packages)\n",
      "WARNING: Ignoring invalid distribution -mportlib-metadata (c:\\programdata\\anaconda3\\lib\\site-packages)\n"
     ]
    }
   ],
   "source": [
    "pip install git+https://github.com/openai/mujoco-py --user"
   ]
  },
  {
   "cell_type": "code",
   "execution_count": null,
   "id": "01ae9148",
   "metadata": {},
   "outputs": [],
   "source": []
  }
 ],
 "metadata": {
  "kernelspec": {
   "display_name": "Python 3 (ipykernel)",
   "language": "python",
   "name": "python3"
  },
  "language_info": {
   "codemirror_mode": {
    "name": "ipython",
    "version": 3
   },
   "file_extension": ".py",
   "mimetype": "text/x-python",
   "name": "python",
   "nbconvert_exporter": "python",
   "pygments_lexer": "ipython3",
   "version": "3.9.7"
  }
 },
 "nbformat": 4,
 "nbformat_minor": 5
}
