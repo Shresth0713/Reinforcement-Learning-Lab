{
 "cells": [
  {
   "cell_type": "markdown",
   "id": "286490ce",
   "metadata": {},
   "source": [
    "Importing Gym"
   ]
  },
  {
   "cell_type": "code",
   "execution_count": 12,
   "id": "2779dc6a",
   "metadata": {},
   "outputs": [],
   "source": [
    "import gym,numpy as np\n",
    "env=gym.make(\"FrozenLake-v1\",render_mode=\"human\")\n",
    "# env.reset()"
   ]
  },
  {
   "cell_type": "markdown",
   "id": "94631de5",
   "metadata": {},
   "source": [
    "Checking no of states"
   ]
  },
  {
   "cell_type": "code",
   "execution_count": 13,
   "id": "bad345e5",
   "metadata": {},
   "outputs": [
    {
     "data": {
      "text/plain": [
       "Discrete(16)"
      ]
     },
     "execution_count": 13,
     "metadata": {},
     "output_type": "execute_result"
    }
   ],
   "source": [
    "env.observation_space"
   ]
  },
  {
   "cell_type": "markdown",
   "id": "d178c47d",
   "metadata": {},
   "source": [
    "Checking No of Actions"
   ]
  },
  {
   "cell_type": "code",
   "execution_count": 14,
   "id": "43d050c7",
   "metadata": {},
   "outputs": [
    {
     "data": {
      "text/plain": [
       "Discrete(4)"
      ]
     },
     "execution_count": 14,
     "metadata": {},
     "output_type": "execute_result"
    }
   ],
   "source": [
    "env.action_space"
   ]
  },
  {
   "cell_type": "code",
   "execution_count": 15,
   "id": "44efa28f",
   "metadata": {},
   "outputs": [
    {
     "data": {
      "text/plain": [
       "{0: [(0.3333333333333333, 0, 0.0, False),\n",
       "  (0.3333333333333333, 0, 0.0, False),\n",
       "  (0.3333333333333333, 4, 0.0, False)],\n",
       " 1: [(0.3333333333333333, 0, 0.0, False),\n",
       "  (0.3333333333333333, 4, 0.0, False),\n",
       "  (0.3333333333333333, 1, 0.0, False)],\n",
       " 2: [(0.3333333333333333, 4, 0.0, False),\n",
       "  (0.3333333333333333, 1, 0.0, False),\n",
       "  (0.3333333333333333, 0, 0.0, False)],\n",
       " 3: [(0.3333333333333333, 1, 0.0, False),\n",
       "  (0.3333333333333333, 0, 0.0, False),\n",
       "  (0.3333333333333333, 0, 0.0, False)]}"
      ]
     },
     "execution_count": 15,
     "metadata": {},
     "output_type": "execute_result"
    }
   ],
   "source": [
    "env.P[0]"
   ]
  },
  {
   "cell_type": "code",
   "execution_count": 16,
   "id": "9a74783e",
   "metadata": {},
   "outputs": [],
   "source": [
    "env.reset()\n",
    "env.render()"
   ]
  },
  {
   "cell_type": "code",
   "execution_count": 17,
   "id": "3099fc5b",
   "metadata": {},
   "outputs": [],
   "source": [
    "for t in range(50):\n",
    "    random_action=env.action_space.sample()\n",
    "    next_state,reward,terminated, truncated, info=env.step(random_action)\n",
    "    #env.render()\n",
    "    if terminated:\n",
    "        break"
   ]
  },
  {
   "cell_type": "code",
   "execution_count": 18,
   "id": "93ba8771",
   "metadata": {},
   "outputs": [],
   "source": [
    "def value_iteration(env):\n",
    "    no_of_iteration=10000\n",
    "    threshold=1e-20\n",
    "    gamma=1.0\n",
    "    value_table=np.zeros(env.observation_space.n)\n",
    "    for i in range(no_of_iteration):\n",
    "#         print(value_table[:4],\"\\n\",value_table[4:8],\"\\n\",value_table[8:12],\"\\n\",value_table[12:],\"\\n\")\n",
    "        updated_table=np.copy(value_table)\n",
    "        for s in range(env.observation_space.n):\n",
    "            Q_values=[sum([prob*(r+gamma*updated_table[s_]) for prob,s_,r,_ in env.P[s][a]]) for a in range(env.action_space.n)]\n",
    "            value_table[s]=max(Q_values)\n",
    "            \n",
    "        if np.sum(np.fabs(updated_table-value_table))<=threshold:\n",
    "            break\n",
    "    return value_table"
   ]
  },
  {
   "cell_type": "code",
   "execution_count": 19,
   "id": "352c3979",
   "metadata": {},
   "outputs": [],
   "source": [
    "def extract_policy(value_table):\n",
    "    gamma=1.0\n",
    "    policy=np.zeros(env.observation_space.n)\n",
    "    for s in range(env.observation_space.n):\n",
    "        Q_values=[sum([prob*(r+gamma*value_table[s_]) for prob,s_,r,_ in env.P[s][a]]) for a in range(env.action_space.n)]\n",
    "        policy[s]=np.argmax(np.array(Q_values))\n",
    "    return policy"
   ]
  },
  {
   "cell_type": "code",
   "execution_count": 20,
   "id": "5d45d35b",
   "metadata": {},
   "outputs": [
    {
     "name": "stdout",
     "output_type": "stream",
     "text": [
      "[0. 3. 3. 3. 0. 0. 0. 0. 3. 1. 0. 0. 0. 2. 1. 0.]\n"
     ]
    }
   ],
   "source": [
    "optimal_value_table=value_iteration(env)\n",
    "optimal_policy=extract_policy(optimal_value_table)\n",
    "print(optimal_policy)"
   ]
  },
  {
   "cell_type": "code",
   "execution_count": 21,
   "id": "08029fac",
   "metadata": {},
   "outputs": [],
   "source": [
    "env.reset()\n",
    "state=0\n",
    "optimal_policy=list(optimal_policy)\n",
    "for x in range(100):\n",
    "    action=int(optimal_policy[state])\n",
    "    state,a,b,c,d=env.step(action)\n",
    "    env.render()\n",
    "    if b:\n",
    "        break"
   ]
  },
  {
   "cell_type": "code",
   "execution_count": 22,
   "id": "9730bd84",
   "metadata": {},
   "outputs": [],
   "source": [
    "env.close()"
   ]
  },
  {
   "cell_type": "code",
   "execution_count": 9,
   "id": "37fc2ce6",
   "metadata": {},
   "outputs": [
    {
     "name": "stdout",
     "output_type": "stream",
     "text": [
      "Observation Space : Discrete(16) \n",
      "\n",
      "Action Space : Discrete(4) \n",
      "\n",
      "State 0's probability space :\n",
      " {0: [(0.3333333333333333, 0, 0.0, False), (0.3333333333333333, 0, 0.0, False), (0.3333333333333333, 4, 0.0, False)], 1: [(0.3333333333333333, 0, 0.0, False), (0.3333333333333333, 4, 0.0, False), (0.3333333333333333, 1, 0.0, False)], 2: [(0.3333333333333333, 4, 0.0, False), (0.3333333333333333, 1, 0.0, False), (0.3333333333333333, 0, 0.0, False)], 3: [(0.3333333333333333, 1, 0.0, False), (0.3333333333333333, 0, 0.0, False), (0.3333333333333333, 0, 0.0, False)]} \n",
      "\n",
      "[0. 3. 3. 3. 0. 0. 0. 0. 3. 1. 0. 0. 0. 2. 1. 0.]\n"
     ]
    }
   ],
   "source": [
    "#Importing Libraries and Creating Environment\n",
    "import gym,numpy as np\n",
    "env=gym.make(\"FrozenLake-v1\",render_mode=\"human\")\n",
    "print(\"Observation Space :\",env.observation_space,\"\\n\")\n",
    "print(\"Action Space :\",env.action_space,\"\\n\")\n",
    "print(\"State 0's probability space :\\n\",env.P[0],\"\\n\")\n",
    "#Resetting Environment\n",
    "env.reset()\n",
    "#Value Iteration Method\n",
    "def value_iteration(env):\n",
    "    no_of_iteration=10000\n",
    "    threshold=1e-20\n",
    "    gamma=1.0\n",
    "    value_table=np.zeros(env.observation_space.n)\n",
    "    for i in range(no_of_iteration):\n",
    "        updated_table=np.copy(value_table)\n",
    "        \n",
    "        for s in range(env.observation_space.n):\n",
    "            Q_values=[sum([prob*(r+gamma*updated_table[s_]) for prob,s_,r,_ in env.P[s][a]]) for a in range(env.action_space.n)]\n",
    "            value_table[s]=max(Q_values)\n",
    "            \n",
    "        if np.sum(np.fabs(updated_table-value_table))<=threshold:\n",
    "            break\n",
    "    return value_table\n",
    "#Policy Extraction\n",
    "def extract_policy(value_table):\n",
    "    gamma=1.0\n",
    "    policy=np.zeros(env.observation_space.n)\n",
    "    for s in range(env.observation_space.n):\n",
    "        Q_values=[sum([prob*(r+gamma*value_table[s_]) for prob,s_,r,_ in env.P[s][a]]) for a in range(env.action_space.n)]\n",
    "        policy[s]=np.argmax(np.array(Q_values))\n",
    "    return policy\n",
    "#Getting Optimal Value_Table and Optimal_Policy\n",
    "optimal_value_table=value_iteration(env)\n",
    "optimal_policy=extract_policy(optimal_value_table)\n",
    "print(optimal_policy)\n",
    "#Running the Policy we got in the given environment\n",
    "env.reset()\n",
    "state=0\n",
    "optimal_policy=list(optimal_policy)\n",
    "for x in range(100):\n",
    "    action=int(optimal_policy[state])\n",
    "    state,a,b,c,d=env.step(action)\n",
    "    env.render()\n",
    "    if b:\n",
    "        break"
   ]
  }
 ],
 "metadata": {
  "kernelspec": {
   "display_name": "Python 3 (ipykernel)",
   "language": "python",
   "name": "python3"
  },
  "language_info": {
   "codemirror_mode": {
    "name": "ipython",
    "version": 3
   },
   "file_extension": ".py",
   "mimetype": "text/x-python",
   "name": "python",
   "nbconvert_exporter": "python",
   "pygments_lexer": "ipython3",
   "version": "3.9.13"
  }
 },
 "nbformat": 4,
 "nbformat_minor": 5
}
