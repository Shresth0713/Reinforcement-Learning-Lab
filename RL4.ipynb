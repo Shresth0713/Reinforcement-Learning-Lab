{
 "cells": [
  {
   "cell_type": "code",
   "execution_count": 10,
   "id": "c9522c75",
   "metadata": {},
   "outputs": [],
   "source": [
    "import gym\n",
    "import pandas as pd\n",
    "from collections import defaultdict"
   ]
  },
  {
   "cell_type": "code",
   "execution_count": 11,
   "id": "386c496a",
   "metadata": {},
   "outputs": [
    {
     "name": "stdout",
     "output_type": "stream",
     "text": [
      "((13, 10, False), {})\n"
     ]
    }
   ],
   "source": [
    "env=gym.make('Blackjack-v1')\n",
    "print(env.reset())"
   ]
  },
  {
   "cell_type": "code",
   "execution_count": 12,
   "id": "4b6d881d",
   "metadata": {},
   "outputs": [
    {
     "name": "stdout",
     "output_type": "stream",
     "text": [
      "Discrete(2)\n"
     ]
    }
   ],
   "source": [
    "print(env.action_space)"
   ]
  },
  {
   "cell_type": "code",
   "execution_count": 13,
   "id": "c4cdd8dd",
   "metadata": {},
   "outputs": [],
   "source": [
    "def policy(state):\n",
    "    return 0 if state[0]>19 else 1"
   ]
  },
  {
   "cell_type": "code",
   "execution_count": 14,
   "id": "cf21a61c",
   "metadata": {},
   "outputs": [
    {
     "name": "stdout",
     "output_type": "stream",
     "text": [
      "[((14, 2, False), 1, 0.0), ((20, 2, False), 0, -1.0)]\n"
     ]
    }
   ],
   "source": [
    "num_timesteps=100\n",
    "def generate_episode(policy):\n",
    "    episode=[]\n",
    "    state=env.reset()[0]\n",
    "    for t in range(num_timesteps):\n",
    "        action=policy(state)\n",
    "        next_state,reward,done,info,extra = env.step(action)\n",
    "        episode.append((state,action,reward))\n",
    "        if done:\n",
    "            break\n",
    "        state=next_state\n",
    "    return episode\n",
    "print(generate_episode(policy))"
   ]
  },
  {
   "cell_type": "code",
   "execution_count": 15,
   "id": "dab68f95",
   "metadata": {},
   "outputs": [
    {
     "data": {
      "text/html": [
       "<div>\n",
       "<style scoped>\n",
       "    .dataframe tbody tr th:only-of-type {\n",
       "        vertical-align: middle;\n",
       "    }\n",
       "\n",
       "    .dataframe tbody tr th {\n",
       "        vertical-align: top;\n",
       "    }\n",
       "\n",
       "    .dataframe thead th {\n",
       "        text-align: right;\n",
       "    }\n",
       "</style>\n",
       "<table border=\"1\" class=\"dataframe\">\n",
       "  <thead>\n",
       "    <tr style=\"text-align: right;\">\n",
       "      <th></th>\n",
       "      <th>state</th>\n",
       "      <th>total_return</th>\n",
       "      <th>N</th>\n",
       "    </tr>\n",
       "  </thead>\n",
       "  <tbody>\n",
       "    <tr>\n",
       "      <th>0</th>\n",
       "      <td>(12, 10, False)</td>\n",
       "      <td>-10305.0</td>\n",
       "      <td>18078</td>\n",
       "    </tr>\n",
       "    <tr>\n",
       "      <th>1</th>\n",
       "      <td>(17, 6, True)</td>\n",
       "      <td>-262.0</td>\n",
       "      <td>704</td>\n",
       "    </tr>\n",
       "    <tr>\n",
       "      <th>2</th>\n",
       "      <td>(17, 6, False)</td>\n",
       "      <td>-3579.0</td>\n",
       "      <td>5219</td>\n",
       "    </tr>\n",
       "    <tr>\n",
       "      <th>3</th>\n",
       "      <td>(17, 4, True)</td>\n",
       "      <td>-262.0</td>\n",
       "      <td>682</td>\n",
       "    </tr>\n",
       "    <tr>\n",
       "      <th>4</th>\n",
       "      <td>(19, 4, True)</td>\n",
       "      <td>-334.0</td>\n",
       "      <td>827</td>\n",
       "    </tr>\n",
       "    <tr>\n",
       "      <th>5</th>\n",
       "      <td>(15, 4, False)</td>\n",
       "      <td>-3199.0</td>\n",
       "      <td>4935</td>\n",
       "    </tr>\n",
       "    <tr>\n",
       "      <th>6</th>\n",
       "      <td>(21, 4, False)</td>\n",
       "      <td>3423.0</td>\n",
       "      <td>3836</td>\n",
       "    </tr>\n",
       "    <tr>\n",
       "      <th>7</th>\n",
       "      <td>(17, 2, False)</td>\n",
       "      <td>-3610.0</td>\n",
       "      <td>5371</td>\n",
       "    </tr>\n",
       "    <tr>\n",
       "      <th>8</th>\n",
       "      <td>(15, 3, True)</td>\n",
       "      <td>-154.0</td>\n",
       "      <td>584</td>\n",
       "    </tr>\n",
       "    <tr>\n",
       "      <th>9</th>\n",
       "      <td>(15, 3, False)</td>\n",
       "      <td>-3155.0</td>\n",
       "      <td>5078</td>\n",
       "    </tr>\n",
       "  </tbody>\n",
       "</table>\n",
       "</div>"
      ],
      "text/plain": [
       "             state  total_return      N\n",
       "0  (12, 10, False)      -10305.0  18078\n",
       "1    (17, 6, True)        -262.0    704\n",
       "2   (17, 6, False)       -3579.0   5219\n",
       "3    (17, 4, True)        -262.0    682\n",
       "4    (19, 4, True)        -334.0    827\n",
       "5   (15, 4, False)       -3199.0   4935\n",
       "6   (21, 4, False)        3423.0   3836\n",
       "7   (17, 2, False)       -3610.0   5371\n",
       "8    (15, 3, True)        -154.0    584\n",
       "9   (15, 3, False)       -3155.0   5078"
      ]
     },
     "execution_count": 15,
     "metadata": {},
     "output_type": "execute_result"
    }
   ],
   "source": [
    "total_return = defaultdict(float)\n",
    "N = defaultdict(int)\n",
    "num_iterations= 500000\n",
    "for i in range(num_iterations):\n",
    "    episode = generate_episode(policy)\n",
    "    states, actions, rewards= zip(*episode)\n",
    "    for t, state in enumerate(states):\n",
    "        R =(sum(rewards[t:]))\n",
    "        total_return[state]= total_return[state]+R\n",
    "        N[state] = N[state] + 1\n",
    "total_return = pd.DataFrame(total_return.items(),columns=['state','total_return'])\n",
    "N = pd.DataFrame(N.items(),columns=['state', 'N'])\n",
    "df= pd.merge(total_return, N, on=\"state\")\n",
    "df.head(10)"
   ]
  },
  {
   "cell_type": "code",
   "execution_count": 16,
   "id": "05817c85",
   "metadata": {},
   "outputs": [
    {
     "name": "stdout",
     "output_type": "stream",
     "text": [
      "state\n",
      "total_return\n",
      "N\n",
      "value\n"
     ]
    }
   ],
   "source": [
    "df['value']=df['total_return']/df['N']\n",
    "df.head(10)"
   ]
  },
  {
   "cell_type": "code",
   "execution_count": 17,
   "id": "e2020143",
   "metadata": {},
   "outputs": [
    {
     "data": {
      "text/plain": [
       "array([0.93929041])"
      ]
     },
     "execution_count": 17,
     "metadata": {},
     "output_type": "execute_result"
    }
   ],
   "source": [
    "df[df['state']==(21,9,False)]['value'].values"
   ]
  },
  {
   "cell_type": "code",
   "execution_count": 18,
   "id": "2894fe33",
   "metadata": {},
   "outputs": [
    {
     "data": {
      "text/plain": [
       "array([-0.47300216])"
      ]
     },
     "execution_count": 18,
     "metadata": {},
     "output_type": "execute_result"
    }
   ],
   "source": [
    "df[df['state']==(5,8,False)]['value'].values"
   ]
  },
  {
   "cell_type": "code",
   "execution_count": 3,
   "id": "44494865",
   "metadata": {},
   "outputs": [
    {
     "name": "stdout",
     "output_type": "stream",
     "text": [
      "Action Space : Discrete(2) \n",
      "\n",
      "[((11, 6, False), 1, 0.0), ((21, 6, False), 0, 1.0)] \n",
      "\n"
     ]
    },
    {
     "name": "stderr",
     "output_type": "stream",
     "text": [
      "/home/sk/anaconda3/envs/gym/lib/python3.10/site-packages/gym/utils/passive_env_checker.py:233: DeprecationWarning: `np.bool8` is a deprecated alias for `np.bool_`.  (Deprecated NumPy 1.24)\n",
      "  if not isinstance(terminated, (bool, np.bool8)):\n"
     ]
    },
    {
     "name": "stdout",
     "output_type": "stream",
     "text": [
      "[0.93402597]\n"
     ]
    }
   ],
   "source": [
    "#Importing Libraries and Creating Environment\n",
    "import gym\n",
    "import pandas as pd\n",
    "from collections import defaultdict\n",
    "env=gym.make('Blackjack-v1')\n",
    "\n",
    "print(\"Action Space :\",env.action_space,\"\\n\")\n",
    "#Defining a Policy\n",
    "def policy(state):\n",
    "    return 0 if state[0]>19 else 1\n",
    "#Generating Episodes\n",
    "num_timesteps=100\n",
    "def generate_episode(policy):\n",
    "    episode=[]\n",
    "    state=env.reset()[0]\n",
    "    for t in range(num_timesteps):\n",
    "        action=policy(state)\n",
    "        next_state,reward,done,info,extra = env.step(action)\n",
    "        episode.append((state,action,reward))\n",
    "        if done:\n",
    "            break\n",
    "        state=next_state\n",
    "    return episode\n",
    "print(generate_episode(policy),\"\\n\")\n",
    "#Computing Value Function\n",
    "total_return = defaultdict(float)\n",
    "N = defaultdict(int)\n",
    "num_iterations= 500000\n",
    "for i in range(num_iterations):\n",
    "    episode = generate_episode(policy)\n",
    "    states, actions, rewards= zip(*episode)\n",
    "    for t, state in enumerate(states):\n",
    "        R =(sum(rewards[t:]))\n",
    "        total_return[state]= total_return[state]+R\n",
    "        N[state] = N[state] + 1\n",
    "total_return = pd.DataFrame(total_return.items(),columns=['state','total_return'])\n",
    "N = pd.DataFrame(N.items(),columns=['state', 'N'])\n",
    "df= pd.merge(total_return, N, on=\"state\")\n",
    "df['value']=df['total_return']/df['N']\n",
    "#Final Table\n",
    "df.head(10)\n",
    "#Testing on Random Value\n",
    "print(\"For State 21, dealer value 9 and no playable Ace\",df[df['state']==(21,9,False)]['value'].values)"
   ]
  },
  {
   "cell_type": "code",
   "execution_count": null,
   "id": "0adc402d",
   "metadata": {},
   "outputs": [],
   "source": [
    "print(df[df['state']==(21,9,False)]['value'].values)"
   ]
  },
  {
   "cell_type": "code",
   "execution_count": 10,
   "id": "a4fb485a",
   "metadata": {},
   "outputs": [
    {
     "data": {
      "text/plain": [
       "0.0"
      ]
     },
     "execution_count": 10,
     "metadata": {},
     "output_type": "execute_result"
    }
   ],
   "source": [
    "round(0.5,0)"
   ]
  }
 ],
 "metadata": {
  "kernelspec": {
   "display_name": "Python 3 (ipykernel)",
   "language": "python",
   "name": "python3"
  },
  "language_info": {
   "codemirror_mode": {
    "name": "ipython",
    "version": 3
   },
   "file_extension": ".py",
   "mimetype": "text/x-python",
   "name": "python",
   "nbconvert_exporter": "python",
   "pygments_lexer": "ipython3",
   "version": "3.9.13"
  }
 },
 "nbformat": 4,
 "nbformat_minor": 5
}
