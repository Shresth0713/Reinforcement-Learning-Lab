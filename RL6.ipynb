{
 "cells": [
  {
   "cell_type": "code",
   "execution_count": 1,
   "id": "0605d6be",
   "metadata": {},
   "outputs": [],
   "source": [
    "import gym,numpy as np,random\n",
    "env=gym.make(\"FrozenLake-v1\")"
   ]
  },
  {
   "cell_type": "code",
   "execution_count": 2,
   "id": "f4e2b187",
   "metadata": {},
   "outputs": [],
   "source": [
    "Q={}\n",
    "for s in range(env.observation_space.n):\n",
    "    for a in range(env.action_space.n):\n",
    "        Q[(s,a)]=0.0"
   ]
  },
  {
   "cell_type": "code",
   "execution_count": 3,
   "id": "69a0a7a6",
   "metadata": {},
   "outputs": [],
   "source": [
    "def epsilon_greedy(state,epsilon):\n",
    "    if random.uniform(0,1)<epsilon:\n",
    "        return env.action_space.sample()\n",
    "    else:\n",
    "        return max(list(range(env.action_space.n)),key=lambda x:Q[(state,x)])"
   ]
  },
  {
   "cell_type": "code",
   "execution_count": 6,
   "id": "61330e66",
   "metadata": {},
   "outputs": [],
   "source": [
    "alpha=0.85\n",
    "gamma=0.90\n",
    "epsilon=0.8\n",
    "\n",
    "num_episodes=50000\n",
    "num_timesteps=1000\n",
    "for i in range(num_timesteps):\n",
    "    state=env.reset()[0]\n",
    "    for t in range(num_episodes):\n",
    "        action=epsilon_greedy(state,epsilon)\n",
    "        next_state,reward,done,_,__=env.step(action)\n",
    "        a_=np.argmax([Q[state,a] for a in range(env.action_space.n)])\n",
    "        Q[(s,a)]+=alpha*(reward+gamma*Q[(next_state,a_)]-Q[(state,a)])\n",
    "        state=next_state\n",
    "        if done:\n",
    "            break"
   ]
  },
  {
   "cell_type": "code",
   "execution_count": 7,
   "id": "c015283f",
   "metadata": {},
   "outputs": [
    {
     "data": {
      "text/plain": [
       "{(0, 0): 0.0,\n",
       " (0, 1): 0.0,\n",
       " (0, 2): 0.0,\n",
       " (0, 3): 0.0,\n",
       " (1, 0): 0.0,\n",
       " (1, 1): 0.0,\n",
       " (1, 2): 0.0,\n",
       " (1, 3): 0.0,\n",
       " (2, 0): 0.0,\n",
       " (2, 1): 0.0,\n",
       " (2, 2): 0.0,\n",
       " (2, 3): 0.0,\n",
       " (3, 0): 0.0,\n",
       " (3, 1): 0.0,\n",
       " (3, 2): 0.0,\n",
       " (3, 3): 0.0,\n",
       " (4, 0): 0.0,\n",
       " (4, 1): 0.0,\n",
       " (4, 2): 0.0,\n",
       " (4, 3): 0.0,\n",
       " (5, 0): 0.0,\n",
       " (5, 1): 0.0,\n",
       " (5, 2): 0.0,\n",
       " (5, 3): 0.0,\n",
       " (6, 0): 0.0,\n",
       " (6, 1): 0.0,\n",
       " (6, 2): 0.0,\n",
       " (6, 3): 0.0,\n",
       " (7, 0): 0.0,\n",
       " (7, 1): 0.0,\n",
       " (7, 2): 0.0,\n",
       " (7, 3): 0.0,\n",
       " (8, 0): 0.0,\n",
       " (8, 1): 0.0,\n",
       " (8, 2): 0.0,\n",
       " (8, 3): 0.0,\n",
       " (9, 0): 0.0,\n",
       " (9, 1): 0.0,\n",
       " (9, 2): 0.0,\n",
       " (9, 3): 0.0,\n",
       " (10, 0): 0.0,\n",
       " (10, 1): 0.0,\n",
       " (10, 2): 0.0,\n",
       " (10, 3): 0.0,\n",
       " (11, 0): 0.0,\n",
       " (11, 1): 0.0,\n",
       " (11, 2): 0.0,\n",
       " (11, 3): 0.0,\n",
       " (12, 0): 0.0,\n",
       " (12, 1): 0.0,\n",
       " (12, 2): 0.0,\n",
       " (12, 3): 0.0,\n",
       " (13, 0): 0.0,\n",
       " (13, 1): 0.0,\n",
       " (13, 2): 0.0,\n",
       " (13, 3): 0.0,\n",
       " (14, 0): 0.0,\n",
       " (14, 1): 0.0,\n",
       " (14, 2): 0.0,\n",
       " (14, 3): 0.0,\n",
       " (15, 0): 0.0,\n",
       " (15, 1): 0.0,\n",
       " (15, 2): 0.0,\n",
       " (15, 3): 19.55}"
      ]
     },
     "execution_count": 7,
     "metadata": {},
     "output_type": "execute_result"
    }
   ],
   "source": [
    "Q"
   ]
  },
  {
   "cell_type": "code",
   "execution_count": null,
   "id": "ea30dccc",
   "metadata": {},
   "outputs": [],
   "source": []
  }
 ],
 "metadata": {
  "kernelspec": {
   "display_name": "Python 3 (ipykernel)",
   "language": "python",
   "name": "python3"
  },
  "language_info": {
   "codemirror_mode": {
    "name": "ipython",
    "version": 3
   },
   "file_extension": ".py",
   "mimetype": "text/x-python",
   "name": "python",
   "nbconvert_exporter": "python",
   "pygments_lexer": "ipython3",
   "version": "3.9.13"
  }
 },
 "nbformat": 4,
 "nbformat_minor": 5
}
